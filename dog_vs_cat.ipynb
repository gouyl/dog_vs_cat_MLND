{
 "cells": [
  {
   "cell_type": "markdown",
   "metadata": {},
   "source": [
    "我能成功搭建此猫狗识别的分类器，要特别感谢杨培文大神的教程，他的视频和博客很仔细的讲解主要过程，对我上手此项目帮助巨大。"
   ]
  },
  {
   "cell_type": "markdown",
   "metadata": {},
   "source": [
    "数据的预处理部分"
   ]
  },
  {
   "cell_type": "code",
   "execution_count": 4,
   "metadata": {
    "collapsed": false
   },
   "outputs": [
    {
     "name": "stdout",
     "output_type": "stream",
     "text": [
      "the cats are 12500, dogs are 12500\n",
      "the test is 12500\n"
     ]
    }
   ],
   "source": [
    "import os \n",
    "import shutil\n",
    "import numpy as np \n",
    "import time\n",
    "\n",
    "root_src='E:\\py_project\\dog_vs_cat_final'\n",
    "os.chdir(root_src)\n",
    "\n",
    "def create_directory(dir_name):\n",
    "    if os.path.exists(dir_name):\n",
    "        pass\n",
    "    else:\n",
    "        os.mkdir(dir_name)\n",
    "\n",
    "create_directory('train2')\n",
    "create_directory('train2/cat')\n",
    "create_directory('train2/dog')\n",
    "\n",
    "import random\n",
    "\n",
    "filenames=os.listdir('train/train/')\n",
    "cat_file=list(filter(lambda x:x[:3] =='cat', filenames))\n",
    "cat_file_num=len(cat_file)\n",
    "\n",
    "dog_file=list(filter(lambda x:x[:3] =='dog', filenames))\n",
    "dog_file_num=len(cat_file)\n",
    "\n",
    "print(\"the cats are %d, dogs are %d\"%(cat_file_num, dog_file_num))\n",
    "\n",
    "for name in cat_file:\n",
    "    shutil.move('train/train/'+name, 'train2/cat/'+name)\n",
    "for name in dog_file:\n",
    "    shutil.move('train/train/'+name, 'train2/dog/'+name)\n",
    "\n",
    "\n",
    "filenames=os.listdir('test1/test1')\n",
    "\n",
    "print(\"the test is %d\" %len(filenames))"
   ]
  },
  {
   "cell_type": "markdown",
   "metadata": {},
   "source": [
    "这里为了减少模型训练的时间，有效利用前人的经验提高准确率，我们选择了4个训练好的模型，ResNet50,\n",
    "Xception，InceptionV3 和VGG19。这四个都是前人总结发展的非常好的模型，可以帮助我们高速有效的\n",
    "构建一个深度学习分类器"
   ]
  },
  {
   "cell_type": "markdown",
   "metadata": {},
   "source": [
    "载入这些特征向量，将它们合并成一条特征向量，随机打乱X,y。"
   ]
  },
  {
   "cell_type": "code",
   "execution_count": 7,
   "metadata": {
    "collapsed": false
   },
   "outputs": [],
   "source": [
    "import h5py\n",
    "import numpy as np\n",
    "from sklearn.utils import shuffle\n",
    "np.random.seed(2017)\n",
    "\n",
    "X_train=[]\n",
    "X_test=[]\n",
    "\n",
    "for filename in ['gap_VGG19.h5', 'gap_Xception.h5', 'gap_ResNet50.h5','gap_InceptionV3.h5']:\n",
    "    with h5py.File(filename, 'r') as h:\n",
    "        X_train.append(np.array(h['train']))\n",
    "        X_test.append(np.array(h['test']))\n",
    "        y_train=np.array(h['label'])\n",
    "        \n",
    "X_train=np.concatenate(X_train, axis=1)\n",
    "X_test=np.concatenate(X_test, axis=1)\n",
    "\n",
    "X_train, y_train=shuffle(X_train, y_train)"
   ]
  },
  {
   "cell_type": "markdown",
   "metadata": {},
   "source": [
    "构建模型"
   ]
  },
  {
   "cell_type": "code",
   "execution_count": 10,
   "metadata": {
    "collapsed": false
   },
   "outputs": [],
   "source": [
    "from keras.models import *\n",
    "from keras.layers import *\n",
    "np.random.seed(2017)\n",
    "\n",
    "input_tensor=Input(X_train.shape[1:])\n",
    "x=Dropout(0.5)(input_tensor)\n",
    "x=Dense(1,activation='sigmoid')(x)\n",
    "\n",
    "model=Model(input_tensor, x)\n",
    "model.compile(optimizer='adadelta', loss='binary_crossentropy', metrics=['accuracy'])\n"
   ]
  },
  {
   "cell_type": "markdown",
   "metadata": {},
   "source": [
    "模型的训练"
   ]
  },
  {
   "cell_type": "code",
   "execution_count": 13,
   "metadata": {
    "collapsed": false
   },
   "outputs": [
    {
     "name": "stdout",
     "output_type": "stream",
     "text": [
      "Train on 20000 samples, validate on 5000 samples\n",
      "Epoch 1/10\n",
      "20000/20000 [==============================] - 1s - loss: 0.0149 - acc: 0.9951 - val_loss: 0.0102 - val_acc: 0.9958\n",
      "Epoch 2/10\n",
      "20000/20000 [==============================] - 1s - loss: 0.0151 - acc: 0.9953 - val_loss: 0.0100 - val_acc: 0.9964\n",
      "Epoch 3/10\n",
      "20000/20000 [==============================] - 1s - loss: 0.0132 - acc: 0.9959 - val_loss: 0.0098 - val_acc: 0.9960\n",
      "Epoch 4/10\n",
      "20000/20000 [==============================] - 1s - loss: 0.0128 - acc: 0.9958 - val_loss: 0.0104 - val_acc: 0.9960\n",
      "Epoch 5/10\n",
      "20000/20000 [==============================] - 1s - loss: 0.0125 - acc: 0.9957 - val_loss: 0.0099 - val_acc: 0.9962\n",
      "Epoch 6/10\n",
      "20000/20000 [==============================] - 1s - loss: 0.0114 - acc: 0.9964 - val_loss: 0.0099 - val_acc: 0.9962\n",
      "Epoch 7/10\n",
      "20000/20000 [==============================] - 1s - loss: 0.0121 - acc: 0.9963 - val_loss: 0.0101 - val_acc: 0.9962\n",
      "Epoch 8/10\n",
      "20000/20000 [==============================] - 1s - loss: 0.0105 - acc: 0.9968 - val_loss: 0.0102 - val_acc: 0.9962\n",
      "Epoch 9/10\n",
      "20000/20000 [==============================] - 1s - loss: 0.0114 - acc: 0.9961 - val_loss: 0.0099 - val_acc: 0.9960\n",
      "Epoch 10/10\n",
      "20000/20000 [==============================] - 4s - loss: 0.0120 - acc: 0.9961 - val_loss: 0.0100 - val_acc: 0.9962\n"
     ]
    },
    {
     "data": {
      "text/plain": [
       "<keras.callbacks.History at 0x116a8240>"
      ]
     },
     "execution_count": 13,
     "metadata": {},
     "output_type": "execute_result"
    }
   ],
   "source": [
    "model.fit(X_train, y_train, batch_size=128, epochs=10, validation_split=0.2)"
   ]
  },
  {
   "cell_type": "markdown",
   "metadata": {},
   "source": [
    "预测训练集"
   ]
  },
  {
   "cell_type": "code",
   "execution_count": 16,
   "metadata": {
    "collapsed": false
   },
   "outputs": [
    {
     "name": "stdout",
     "output_type": "stream",
     "text": [
      "12288/12500 [============================>.] - ETA: 0sFound 12500 images belonging to 1 classes.\n"
     ]
    },
    {
     "data": {
      "text/html": [
       "<div>\n",
       "<table border=\"1\" class=\"dataframe\">\n",
       "  <thead>\n",
       "    <tr style=\"text-align: right;\">\n",
       "      <th></th>\n",
       "      <th>id</th>\n",
       "      <th>label</th>\n",
       "    </tr>\n",
       "  </thead>\n",
       "  <tbody>\n",
       "    <tr>\n",
       "      <th>0</th>\n",
       "      <td>1</td>\n",
       "      <td>0.995</td>\n",
       "    </tr>\n",
       "    <tr>\n",
       "      <th>1</th>\n",
       "      <td>2</td>\n",
       "      <td>0.995</td>\n",
       "    </tr>\n",
       "    <tr>\n",
       "      <th>2</th>\n",
       "      <td>3</td>\n",
       "      <td>0.995</td>\n",
       "    </tr>\n",
       "    <tr>\n",
       "      <th>3</th>\n",
       "      <td>4</td>\n",
       "      <td>0.995</td>\n",
       "    </tr>\n",
       "    <tr>\n",
       "      <th>4</th>\n",
       "      <td>5</td>\n",
       "      <td>0.005</td>\n",
       "    </tr>\n",
       "    <tr>\n",
       "      <th>5</th>\n",
       "      <td>6</td>\n",
       "      <td>0.005</td>\n",
       "    </tr>\n",
       "    <tr>\n",
       "      <th>6</th>\n",
       "      <td>7</td>\n",
       "      <td>0.005</td>\n",
       "    </tr>\n",
       "    <tr>\n",
       "      <th>7</th>\n",
       "      <td>8</td>\n",
       "      <td>0.005</td>\n",
       "    </tr>\n",
       "    <tr>\n",
       "      <th>8</th>\n",
       "      <td>9</td>\n",
       "      <td>0.005</td>\n",
       "    </tr>\n",
       "    <tr>\n",
       "      <th>9</th>\n",
       "      <td>10</td>\n",
       "      <td>0.005</td>\n",
       "    </tr>\n",
       "  </tbody>\n",
       "</table>\n",
       "</div>"
      ],
      "text/plain": [
       "   id  label\n",
       "0   1  0.995\n",
       "1   2  0.995\n",
       "2   3  0.995\n",
       "3   4  0.995\n",
       "4   5  0.005\n",
       "5   6  0.005\n",
       "6   7  0.005\n",
       "7   8  0.005\n",
       "8   9  0.005\n",
       "9  10  0.005"
      ]
     },
     "execution_count": 16,
     "metadata": {},
     "output_type": "execute_result"
    }
   ],
   "source": [
    "y_pred=model.predict(X_test, verbose=1)\n",
    "y_pred=y_pred.clip(min=0.005, max=0.995)\n",
    "\n",
    "import pandas as pd \n",
    "from keras.preprocessing.image import *\n",
    "df=pd.read_csv('sampleSubmission.csv')\n",
    "\n",
    "gen=ImageDataGenerator()\n",
    "\n",
    "test_generator=gen.flow_from_directory('test1', (224,224), shuffle=False, batch_size=32, class_mode=None)\n",
    "for i, fname in enumerate(test_generator.filenames):\n",
    "    index=int(fname[fname.rfind('\\\\')+1:fname.rfind('.')])\n",
    "    index=index-1.0\n",
    "    df.set_value(index, 'label', y_pred[i])\n",
    "df.to_csv('pred.csv', index=None)\n",
    "df.head(10)"
   ]
  },
  {
   "cell_type": "markdown",
   "metadata": {},
   "source": [
    "总结：我们使用和四种预训练模型，最后提交到kaggle上，得到的结果是0.04172， 排名在20左右，很不错。 "
   ]
  }
 ],
 "metadata": {
  "anaconda-cloud": {},
  "kernelspec": {
   "display_name": "Python [conda root]",
   "language": "python",
   "name": "conda-root-py"
  },
  "language_info": {
   "codemirror_mode": {
    "name": "ipython",
    "version": 3
   },
   "file_extension": ".py",
   "mimetype": "text/x-python",
   "name": "python",
   "nbconvert_exporter": "python",
   "pygments_lexer": "ipython3",
   "version": "3.5.2"
  }
 },
 "nbformat": 4,
 "nbformat_minor": 1
}
